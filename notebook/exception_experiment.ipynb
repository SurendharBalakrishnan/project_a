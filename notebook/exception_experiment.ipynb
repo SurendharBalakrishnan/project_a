{
 "cells": [
  {
   "cell_type": "code",
   "execution_count": 1,
   "metadata": {},
   "outputs": [
    {
     "name": "stdout",
     "output_type": "stream",
     "text": [
      "All ok\n"
     ]
    }
   ],
   "source": [
    "print(\"All ok\")"
   ]
  },
  {
   "cell_type": "code",
   "execution_count": 2,
   "metadata": {},
   "outputs": [],
   "source": [
    "import sys\n",
    "import traceback"
   ]
  },
  {
   "cell_type": "code",
   "execution_count": 3,
   "metadata": {},
   "outputs": [
    {
     "ename": "NameError",
     "evalue": "name 'error' is not defined",
     "output_type": "error",
     "traceback": [
      "\u001b[1;31m---------------------------------------------------------------------------\u001b[0m",
      "\u001b[1;31mZeroDivisionError\u001b[0m                         Traceback (most recent call last)",
      "Cell \u001b[1;32mIn[3], line 20\u001b[0m\n\u001b[0;32m     18\u001b[0m \u001b[38;5;28;01mtry\u001b[39;00m:\n\u001b[0;32m     19\u001b[0m     \u001b[38;5;66;03m# Simulating an error\u001b[39;00m\n\u001b[1;32m---> 20\u001b[0m     a \u001b[38;5;241m=\u001b[39m \u001b[38;5;241;43m1\u001b[39;49m\u001b[43m \u001b[49m\u001b[38;5;241;43m/\u001b[39;49m\u001b[43m \u001b[49m\u001b[38;5;241;43m0\u001b[39;49m\n\u001b[0;32m     21\u001b[0m     \u001b[38;5;28mprint\u001b[39m(\u001b[38;5;124m\"\u001b[39m\u001b[38;5;124mThis line will not execute\u001b[39m\u001b[38;5;124m\"\u001b[39m)\n",
      "\u001b[1;31mZeroDivisionError\u001b[0m: division by zero",
      "\nDuring handling of the above exception, another exception occurred:\n",
      "\u001b[1;31mNameError\u001b[0m                                 Traceback (most recent call last)",
      "Cell \u001b[1;32mIn[3], line 23\u001b[0m\n\u001b[0;32m     21\u001b[0m     \u001b[38;5;28mprint\u001b[39m(\u001b[38;5;124m\"\u001b[39m\u001b[38;5;124mThis line will not execute\u001b[39m\u001b[38;5;124m\"\u001b[39m)\n\u001b[0;32m     22\u001b[0m \u001b[38;5;28;01mexcept\u001b[39;00m \u001b[38;5;167;01mException\u001b[39;00m \u001b[38;5;28;01mas\u001b[39;00m e:\n\u001b[1;32m---> 23\u001b[0m     app_exception \u001b[38;5;241m=\u001b[39m \u001b[43mProjectAException\u001b[49m\u001b[43m(\u001b[49m\u001b[43me\u001b[49m\u001b[43m,\u001b[49m\u001b[43msys\u001b[49m\u001b[43m)\u001b[49m\n\u001b[0;32m     24\u001b[0m     \u001b[38;5;28;01mraise\u001b[39;00m app_exception    \n",
      "Cell \u001b[1;32mIn[3], line 7\u001b[0m, in \u001b[0;36mProjectAException.__init__\u001b[1;34m(self, error_message, error_details)\u001b[0m\n\u001b[0;32m      6\u001b[0m \u001b[38;5;28;01mdef\u001b[39;00m\u001b[38;5;250m \u001b[39m\u001b[38;5;21m__init__\u001b[39m(\u001b[38;5;28mself\u001b[39m, error_message:\u001b[38;5;28mstr\u001b[39m, error_details:sys):\n\u001b[1;32m----> 7\u001b[0m     _,_,exc_tb\u001b[38;5;241m=\u001b[39m\u001b[43merror\u001b[49m\u001b[38;5;241m.\u001b[39mdetails\u001b[38;5;241m.\u001b[39mexc_info()\n\u001b[0;32m      8\u001b[0m     \u001b[38;5;28mself\u001b[39m\u001b[38;5;241m.\u001b[39mfile_name\u001b[38;5;241m=\u001b[39mexc_tb\u001b[38;5;241m.\u001b[39mtb_frame\u001b[38;5;241m.\u001b[39mf_code\u001b[38;5;241m.\u001b[39mco_filename\n\u001b[0;32m      9\u001b[0m     \u001b[38;5;28mself\u001b[39m\u001b[38;5;241m.\u001b[39mlineno\u001b[38;5;241m=\u001b[39mexc_tb\u001b[38;5;241m.\u001b[39mtb_lineno\n",
      "\u001b[1;31mNameError\u001b[0m: name 'error' is not defined"
     ]
    }
   ],
   "source": [
    "import sys\n",
    "import traceback\n",
    "\n",
    "class ProjectAException(Exception):\n",
    "    \"\"\"Base class for exceptions in Project A.\"\"\"\n",
    "    def __init__(self, error_message:str, error_details:sys):\n",
    "        _,_,exc_tb=error.details.exc_info()\n",
    "        self.file_name=exc_tb.tb_frame.f_code.co_filename\n",
    "        self.lineno=exc_tb.tb_lineno\n",
    "        self.error_message=str(error_message)\n",
    "        self.traceback_str=''.join(traceback.format_exception(*error_details.exc_info()))\n",
    "    def __str__(self):\n",
    "        return f\"\"\"\n",
    "         Error in [{self.file_name}] at line [{self.lineno}]: {self.error_message}\n",
    "        \"\"\"\n",
    "\n",
    "if __name__ == \"__main__\":\n",
    "    try:\n",
    "        # Simulating an error\n",
    "        a = 1 / 0\n",
    "        print(\"This line will not execute\")\n",
    "    except Exception as e:\n",
    "        app_exception = ProjectAException(e,sys)\n",
    "        raise app_exception    "
   ]
  },
  {
   "cell_type": "code",
   "execution_count": null,
   "metadata": {},
   "outputs": [],
   "source": []
  }
 ],
 "metadata": {
  "kernelspec": {
   "display_name": "Python 3",
   "language": "python",
   "name": "python3"
  },
  "language_info": {
   "codemirror_mode": {
    "name": "ipython",
    "version": 3
   },
   "file_extension": ".py",
   "mimetype": "text/x-python",
   "name": "python",
   "nbconvert_exporter": "python",
   "pygments_lexer": "ipython3",
   "version": "3.10.0"
  }
 },
 "nbformat": 4,
 "nbformat_minor": 2
}
